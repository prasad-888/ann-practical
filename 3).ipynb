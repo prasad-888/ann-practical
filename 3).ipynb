{
 "cells": [
  {
   "cell_type": "code",
   "execution_count": 1,
   "id": "e9cdcd58-9ee1-4fa9-bd01-9da1f6882572",
   "metadata": {},
   "outputs": [
    {
     "name": "stdout",
     "output_type": "stream",
     "text": [
      "[ 0.0905395   0.46306542  0.172813   -0.20126677  0.36896395  0.01724096\n",
      "  0.07812781 -0.54149885]\n",
      "0.20000000000000015\n"
     ]
    }
   ],
   "source": [
    "import numpy as np\n",
    "def activation(output):\n",
    "    if output >= 0:\n",
    "        return 1\n",
    "    else:\n",
    "        return 0\n",
    "    \n",
    "def predict(inputs,weights,bias):\n",
    "    predictions = []\n",
    "    for i in range(len(inputs)):\n",
    "        wsum = np.dot(inputs[i],weights) + bias\n",
    "        predictions.append(activation(wsum))\n",
    "    return predictions\n",
    "def training(inputs):\n",
    "    epochs = 1000\n",
    "    bias = 1\n",
    "    n = len(inputs)\n",
    "    binary = len(inputs[0])\n",
    "    expected_output = np.array([1,0,1,0,1,0,1,0,1,0])\n",
    "    weights = np.random.rand(binary)\n",
    "    wsum = 0\n",
    "    learn_rate = 0.1\n",
    "    for epoch in range(epochs):\n",
    "        for j in range(n):\n",
    "            # Calculate the weighted sum\n",
    "            wsum = np.dot(inputs[j],weights) + bias\n",
    "            #output = wsum + bias\n",
    "            predicted = activation(wsum)\n",
    "            \n",
    "            # Calculate error\n",
    "            error = expected_output[j] - predicted\n",
    "            # Change weights and bias\n",
    "            weights = weights + learn_rate*(error)*inputs[j]\n",
    "            bias = bias + learn_rate*error\n",
    "    return weights,bias\n",
    "inputs = np.array([[0,0,1,1,0,0,0,0],\n",
    "                  [0,0,1,1,0,0,0,1],\n",
    "                  [0,0,1,1,0,0,1,0],\n",
    "                  [0,0,1,1,0,0,1,1],\n",
    "                  [0,0,1,1,0,1,0,0],\n",
    "                  [0,0,1,1,0,1,0,1],\n",
    "                  [0,0,1,1,0,1,1,0],\n",
    "                  [0,0,1,1,0,1,1,1],\n",
    "                  [0,0,1,1,1,0,0,0],\n",
    "                  [0,0,1,1,1,0,0,1]])\n",
    "nweights,nbias = training(inputs)\n",
    "print(nweights)\n",
    "print(nbias)"
   ]
  },
  {
   "cell_type": "code",
   "execution_count": 3,
   "id": "fb397933-746e-415f-ae26-bf0cde4c59af",
   "metadata": {},
   "outputs": [
    {
     "name": "stdout",
     "output_type": "stream",
     "text": [
      "[1, 0, 1, 0, 1, 0, 1, 0, 1, 0]\n"
     ]
    }
   ],
   "source": [
    "print(predict(inputs,nweights,nbias))"
   ]
  },
  {
   "cell_type": "code",
   "execution_count": 23,
   "id": "ad84723f-5bdc-44c5-a349-b4dfd87eb9f2",
   "metadata": {},
   "outputs": [
    {
     "name": "stdin",
     "output_type": "stream",
     "text": [
      "Enter a Number (0-9):  12\n"
     ]
    },
    {
     "name": "stdout",
     "output_type": "stream",
     "text": [
      "12  is  even\n"
     ]
    }
   ],
   "source": [
    "import numpy as np\n",
    "\n",
    "j = int(input(\"Enter a Number (0-9): \"))\n",
    "step_function = lambda x: 1 if x >= 0 else 0\n",
    "\n",
    "training_data = []\n",
    "for i in range(10):\n",
    "    binary = [int(bit) for bit in list(f'{i:06b}')]\n",
    "    label = 1 if i % 2 == 0 else 0  # 1 for even, 0 for odd\n",
    "    training_data.append({'input': binary, 'label': label})\n",
    "\n",
    "weights = np.array([0.0] * 6)  # Initialize weights to zeros\n",
    "learning_rate = 0.1  # Introduce a learning rate\n",
    "\n",
    "# Train the perceptron\n",
    "for epoch in range(100):  # Train for multiple epochs\n",
    "    for data in training_data:\n",
    "        input_vector = np.array(data['input'])\n",
    "        label = data['label']\n",
    "        prediction = step_function(np.dot(input_vector, weights))\n",
    "        error = label - prediction\n",
    "        weights += learning_rate * input_vector * error\n",
    "\n",
    "# Classify the input number\n",
    "input_number_binary = np.array([int(bit) for bit in list(f'{j:06b}')])\n",
    "output = \"even\" if step_function(np.dot(input_number_binary, weights)) == 1 else \"odd\"\n",
    "print(j, \" is \", output)"
   ]
  },
  {
   "cell_type": "code",
   "execution_count": null,
   "id": "eb427165-3861-46c8-ab30-8a83787c972c",
   "metadata": {},
   "outputs": [],
   "source": []
  }
 ],
 "metadata": {
  "kernelspec": {
   "display_name": "Python 3 (ipykernel)",
   "language": "python",
   "name": "python3"
  },
  "language_info": {
   "codemirror_mode": {
    "name": "ipython",
    "version": 3
   },
   "file_extension": ".py",
   "mimetype": "text/x-python",
   "name": "python",
   "nbconvert_exporter": "python",
   "pygments_lexer": "ipython3",
   "version": "3.12.7"
  }
 },
 "nbformat": 4,
 "nbformat_minor": 5
}
