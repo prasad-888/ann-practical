{
 "cells": [
  {
   "cell_type": "code",
   "execution_count": null,
   "id": "cad3f005-208f-4fa8-8181-012c4dddfd9b",
   "metadata": {},
   "outputs": [],
   "source": []
  }
 ],
 "metadata": {
  "kernelspec": {
   "display_name": "",
   "name": ""
  },
  "language_info": {
   "name": ""
  }
 },
 "nbformat": 4,
 "nbformat_minor": 5
}
