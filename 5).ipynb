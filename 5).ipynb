{
 "cells": [
  {
   "cell_type": "code",
   "execution_count": 1,
   "id": "4e0ce43c-1ad8-441a-a0fd-73a6b42eab80",
   "metadata": {},
   "outputs": [
    {
     "name": "stdout",
     "output_type": "stream",
     "text": [
      "Weight1: \n",
      " [[ 1 -1  1 -1  1 -1]\n",
      " [-1  1 -1  1 -1  1]\n",
      " [ 1 -1  1 -1  1 -1]]\n",
      "Weight2: \n",
      " [[ 1 -1  1  1 -1  1]\n",
      " [-1  1 -1 -1  1 -1]\n",
      " [ 1 -1  1  1 -1  1]]\n",
      "Weight3: \n",
      " [[1 1 1 1 1 1]\n",
      " [1 1 1 1 1 1]\n",
      " [1 1 1 1 1 1]]\n",
      "Weight4: \n",
      " [[ 1  1 -1  1  1 -1]\n",
      " [ 1  1 -1  1  1 -1]\n",
      " [-1 -1  1 -1 -1  1]]\n"
     ]
    }
   ],
   "source": [
    "##Write a python Program for Bidirectional Associative Memory with two pairs of vectors\n",
    "import numpy as np\n",
    "# Input Patterns\n",
    "x1 = np.array([1,-1,1,-1,1,-1]).reshape(6,1)\n",
    "x2 = np.array([1,-1,1,1,-1,1]).reshape(6,1)\n",
    "x3 = np.array([-1,-1,-1,-1,-1,-1]).reshape(6,1)\n",
    "x4 = np.array([1,1,-1,1,1,-1]).reshape(6,1)\n",
    "\n",
    "# Output Patterns\n",
    "y1 = np.array([1,-1,1]).reshape(3,1)\n",
    "y2 = np.array([1,-1,1]).reshape(3,1)\n",
    "y3 = np.array([-1,-1,-1]).reshape(3,1)\n",
    "y4 = np.array([1,1,-1]).reshape(3,1)\n",
    "# Calculating weights\n",
    "w1 = y1@x1.T\n",
    "w2 = y2@x2.T\n",
    "w3 = y3@x3.T\n",
    "w4 = y4@x4.T\n",
    "\n",
    "print(\"Weight1: \\n\",w1)\n",
    "print(\"Weight2: \\n\",w2)\n",
    "print(\"Weight3: \\n\",w3)\n",
    "print(\"Weight4: \\n\",w4)  \n"
   ]
  },
  {
   "cell_type": "code",
   "execution_count": 3,
   "id": "29bab6c4-419e-4f90-8efd-623b1d478132",
   "metadata": {},
   "outputs": [
    {
     "name": "stdout",
     "output_type": "stream",
     "text": [
      "[1, -1, 1]\n",
      "[1, -1, 1]\n",
      "[-1, -1, -1]\n",
      "[1, 1, -1]\n"
     ]
    }
   ],
   "source": [
    "def sigmoid(weight):\n",
    "    temp = []\n",
    "    for i in weight:\n",
    "        if i > 0:\n",
    "            temp.append(1)\n",
    "        else:\n",
    "            temp.append(-1)\n",
    "    return temp\n",
    "# Output Predicted\n",
    "Ym1 = sigmoid(w1@x1)\n",
    "print(Ym1)\n",
    "Ym2 = sigmoid(w2@x2)\n",
    "print(Ym2)\n",
    "Ym3 = sigmoid(w3@x3)\n",
    "print(Ym3)\n",
    "Ym4 = sigmoid(w4@x4)\n",
    "print(Ym4)"
   ]
  },
  {
   "cell_type": "code",
   "execution_count": 5,
   "id": "7358db77-7ff2-4314-9372-2ddb763500ce",
   "metadata": {},
   "outputs": [
    {
     "name": "stdout",
     "output_type": "stream",
     "text": [
      "[1, -1, 1, -1, 1, -1]\n",
      "[1, -1, 1, 1, -1, 1]\n",
      "[-1, -1, -1, -1, -1, -1]\n",
      "[1, 1, -1, 1, 1, -1]\n"
     ]
    }
   ],
   "source": [
    "# Input from Predicted Output\n",
    "Xm1 = sigmoid(Ym1@w1)\n",
    "print(Xm1)\n",
    "Xm2 = sigmoid(Ym2@w2)\n",
    "print(Xm2)\n",
    "Xm3 = sigmoid(Ym3@w3)\n",
    "print(Xm3)\n",
    "Xm4 = sigmoid(Ym4@w4)\n",
    "print(Xm4)"
   ]
  },
  {
   "cell_type": "code",
   "execution_count": null,
   "id": "f247aec0-880a-4b6b-a4f9-f1686801a81b",
   "metadata": {},
   "outputs": [],
   "source": []
  },
  {
   "cell_type": "code",
   "execution_count": null,
   "id": "acb746c9-713c-4051-9951-4aba31b66a3d",
   "metadata": {},
   "outputs": [],
   "source": []
  },
  {
   "cell_type": "code",
   "execution_count": null,
   "id": "4e2fb9cd-ae6d-4208-a47c-0dcc48151baf",
   "metadata": {},
   "outputs": [],
   "source": [
    ".0000000000000000000000000000000000000000000000.0\n",
    "3322222222222222222222222222222222222222222222222222222222222222222222222222222222222222222222222222222222222222222222222222222222222222222225*+99*9*---"
   ]
  }
 ],
 "metadata": {
  "kernelspec": {
   "display_name": "Python 3 (ipykernel)",
   "language": "python",
   "name": "python3"
  },
  "language_info": {
   "codemirror_mode": {
    "name": "ipython",
    "version": 3
   },
   "file_extension": ".py",
   "mimetype": "text/x-python",
   "name": "python",
   "nbconvert_exporter": "python",
   "pygments_lexer": "ipython3",
   "version": "3.12.7"
  }
 },
 "nbformat": 4,
 "nbformat_minor": 5
}
