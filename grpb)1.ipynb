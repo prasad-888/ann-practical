{
 "cells": [
  {
   "cell_type": "code",
   "execution_count": 1,
   "id": "4bf3434b-df1c-45bc-927b-b5b9eccf3fb8",
   "metadata": {},
   "outputs": [],
   "source": [
    "import numpy as np\n",
    "def sigmoid(x):\n",
    "    return 1/(1 + np.exp(-x))\n",
    "\n",
    "def sigmoid_derivative(x):\n",
    "    return x*(1-x)"
   ]
  },
  {
   "cell_type": "code",
   "execution_count": 3,
   "id": "5fd57636-8518-42e4-a253-0d55108ef2d8",
   "metadata": {},
   "outputs": [],
   "source": [
    "inputs = np.array([[0,0],[0,1],[1,0],[1,1]])\n",
    "target = np.array([[0],[1],[1],[0]]) #XOR\n",
    "\n",
    "epochs = 10000\n",
    "learn_rate = 0.1\n",
    "input_layer_neurons, hidden_layer_neurons, output_layer_neurons = 2,2,1\n",
    "\n",
    "hidden_weights = np.random.uniform(size=(input_layer_neurons,hidden_layer_neurons))\n",
    "hidden_bias = np.random.uniform(size=(1,hidden_layer_neurons))\n",
    "output_weights = np.random.uniform(size=(hidden_layer_neurons,output_layer_neurons))\n",
    "output_bias = np.random.uniform(size=(1,output_layer_neurons))"
   ]
  },
  {
   "cell_type": "code",
   "execution_count": 5,
   "id": "0ed417f8-92e0-4d4e-8f2f-c90802963a58",
   "metadata": {},
   "outputs": [],
   "source": [
    "# Training algorithm\n",
    "for epoch in range(epochs):\n",
    "    hidden_layer_sum = np.dot(inputs,hidden_weights)\n",
    "    hidden_layer_sum += hidden_bias\n",
    "    hidden_layer_output = sigmoid(hidden_layer_sum)\n",
    "    \n",
    "    output_layer_sum = np.dot(hidden_layer_output,output_weights)\n",
    "    output_layer_sum += output_bias\n",
    "    predicted_output = sigmoid(output_layer_sum)\n",
    "    \n",
    "    # Backpropagation\n",
    "    error = target - predicted_output\n",
    "    d_predicted_output = error * sigmoid_derivative(predicted_output)\n",
    "    \n",
    "    error_hidden = d_predicted_output.dot(output_weights.T)\n",
    "    d_hidden = error_hidden * sigmoid_derivative(hidden_layer_output)\n",
    "    \n",
    "    # Updating weights and biases\n",
    "    output_weights += hidden_layer_output.T.dot(d_predicted_output)*learn_rate\n",
    "    output_bias += np.sum(d_predicted_output,axis=0)*learn_rate\n",
    "    hidden_weights += inputs.T.dot(d_hidden)*learn_rate\n",
    "    hidden_bias += np.sum(d_hidden,axis=0)*learn_rate"
   ]
  },
  {
   "cell_type": "code",
   "execution_count": 7,
   "id": "18689b7a-2dfd-4062-90ff-520e8955888d",
   "metadata": {},
   "outputs": [
    {
     "name": "stdout",
     "output_type": "stream",
     "text": [
      "Hidden Weights: \n",
      "[3.72306538 6.00560639] [3.69061146 5.83190488]\n",
      "Hidden Bias: \n",
      "[-5.67330528 -2.47184119]\n",
      "Output Weights: \n",
      "[-8.25073934] [7.5765945]\n",
      "Output_Bias: \n",
      "[-3.40156617]\n"
     ]
    }
   ],
   "source": [
    "print('Hidden Weights: ')\n",
    "print(*hidden_weights)\n",
    "print('Hidden Bias: ')\n",
    "print(*hidden_bias)\n",
    "print('Output Weights: ')\n",
    "print(*output_weights)\n",
    "print('Output_Bias: ')\n",
    "print(*output_bias)"
   ]
  },
  {
   "cell_type": "code",
   "execution_count": 9,
   "id": "92600c09-11c4-471b-95ed-290665682448",
   "metadata": {},
   "outputs": [
    {
     "name": "stdout",
     "output_type": "stream",
     "text": [
      "Predicted Output: \n",
      "[0.05520846] [0.94892328] [0.9494329] [0.05495596]\n"
     ]
    }
   ],
   "source": [
    "print(\"Predicted Output: \")\n",
    "print(*predicted_output)"
   ]
  },
  {
   "cell_type": "code",
   "execution_count": 11,
   "id": "4d4d80d9-6cb1-4e39-b3cd-95b294ad8bf9",
   "metadata": {},
   "outputs": [
    {
     "data": {
      "text/plain": [
       "array([[-0.05520846],\n",
       "       [ 0.05107672],\n",
       "       [ 0.0505671 ],\n",
       "       [-0.05495596]])"
      ]
     },
     "execution_count": 11,
     "metadata": {},
     "output_type": "execute_result"
    }
   ],
   "source": [
    "difference = target - predicted_output\n",
    "difference"
   ]
  },
  {
   "cell_type": "code",
   "execution_count": 13,
   "id": "6705b000-ba9f-47a6-9fa2-d44a398a17c4",
   "metadata": {},
   "outputs": [
    {
     "name": "stdout",
     "output_type": "stream",
     "text": [
      "Average Accuracy of predictions:  99.78698510252293\n"
     ]
    }
   ],
   "source": [
    "accuracy = 0\n",
    "for i in range(len(difference)):\n",
    "    accuracy += difference[i][0]\n",
    "\n",
    "accuracy = (1 + accuracy/len(difference))*100\n",
    "print(\"Average Accuracy of predictions: \",accuracy)"
   ]
  },
  {
   "cell_type": "code",
   "execution_count": null,
   "id": "e28f3fca-473c-40fe-8c26-9510d6c8744a",
   "metadata": {},
   "outputs": [],
   "source": []
  }
 ],
 "metadata": {
  "kernelspec": {
   "display_name": "Python 3 (ipykernel)",
   "language": "python",
   "name": "python3"
  },
  "language_info": {
   "codemirror_mode": {
    "name": "ipython",
    "version": 3
   },
   "file_extension": ".py",
   "mimetype": "text/x-python",
   "name": "python",
   "nbconvert_exporter": "python",
   "pygments_lexer": "ipython3",
   "version": "3.12.7"
  }
 },
 "nbformat": 4,
 "nbformat_minor": 5
}
