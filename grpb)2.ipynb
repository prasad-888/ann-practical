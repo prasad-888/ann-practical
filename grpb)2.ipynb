{
 "cells": [
  {
   "cell_type": "markdown",
   "id": "6d273870-3869-45a7-beec-44492aa22d78",
   "metadata": {},
   "source": [
    "### Write a python program to illustrate ART neural network.\n"
   ]
  },
  {
   "cell_type": "code",
   "execution_count": 3,
   "id": "513bdaee-762b-4719-8680-7f9149eb2307",
   "metadata": {},
   "outputs": [
    {
     "name": "stdout",
     "output_type": "stream",
     "text": [
      "Predicted Output:\n",
      "[0.14925058] [0.9150258] [0.96560871] [0.96424913] [0.93936498] [0.97189584]\n"
     ]
    }
   ],
   "source": [
    "import numpy as np\n",
    "\n",
    "def sigmoid(x):\n",
    "    return 1 / (1 + np.exp(-x))\n",
    "\n",
    "def sigmoid_derivative(x):\n",
    "    return x * (1 - x)\n",
    "\n",
    "# Define inputs and targets\n",
    "inputs = np.array([[0, 0, 0], [0, 0, 1], [0, 1, 1], [1, 0, 1],[1, 1, 0],[1, 1, 1]])  # Additional input for bias\n",
    "target = np.array([[0], [1], [1], [1], [1], [1]])\n",
    "\n",
    "# Define network parameters\n",
    "input_layer_neurons = 3  # Including bias\n",
    "hidden_layer_neurons = 4\n",
    "output_layer_neurons = 1\n",
    "\n",
    "# Initialize weights and biases\n",
    "hidden_weights = np.random.uniform(size=(input_layer_neurons, hidden_layer_neurons))\n",
    "hidden_bias = np.random.uniform(size=(1, hidden_layer_neurons))\n",
    "output_weights = np.random.uniform(size=(hidden_layer_neurons, output_layer_neurons))\n",
    "output_bias = np.random.uniform(size=(1, output_layer_neurons))\n",
    "\n",
    "# Training parameters\n",
    "epochs = 2000\n",
    "learn_rate = 0.1\n",
    "\n",
    "# Training algorithm\n",
    "for epoch in range(epochs):\n",
    "    # Forward pass\n",
    "    hidden_layer_sum = np.dot(inputs, hidden_weights)\n",
    "    hidden_layer_sum += hidden_bias\n",
    "    hidden_layer_output = sigmoid(hidden_layer_sum)\n",
    "\n",
    "    output_layer_sum = np.dot(hidden_layer_output, output_weights)\n",
    "    output_layer_sum += output_bias\n",
    "    predicted_output = sigmoid(output_layer_sum)\n",
    "\n",
    "    # Backpropagation\n",
    "    error = target - predicted_output\n",
    "    d_predicted_output = error * sigmoid_derivative(predicted_output)\n",
    "\n",
    "    error_hidden = d_predicted_output.dot(output_weights.T)\n",
    "    d_hidden = error_hidden * sigmoid_derivative(hidden_layer_output)\n",
    "\n",
    "    # Update weights and biases\n",
    "    output_weights += hidden_layer_output.T.dot(d_predicted_output) * learn_rate\n",
    "    output_bias += np.sum(d_predicted_output, axis=0) * learn_rate\n",
    "    hidden_weights += inputs.T.dot(d_hidden) * learn_rate\n",
    "    hidden_bias += np.sum(d_hidden, axis=0) * learn_rate\n",
    "\n",
    "print(\"Predicted Output:\")\n",
    "print(*predicted_output)"
   ]
  },
  {
   "cell_type": "code",
   "execution_count": null,
   "id": "f9009c9f-7558-48f1-9e4b-c83d5ab2278b",
   "metadata": {},
   "outputs": [],
   "source": []
  }
 ],
 "metadata": {
  "kernelspec": {
   "display_name": "Python 3 (ipykernel)",
   "language": "python",
   "name": "python3"
  },
  "language_info": {
   "codemirror_mode": {
    "name": "ipython",
    "version": 3
   },
   "file_extension": ".py",
   "mimetype": "text/x-python",
   "name": "python",
   "nbconvert_exporter": "python",
   "pygments_lexer": "ipython3",
   "version": "3.12.7"
  }
 },
 "nbformat": 4,
 "nbformat_minor": 5
}
