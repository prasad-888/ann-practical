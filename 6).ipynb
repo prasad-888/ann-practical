{
 "cells": [
  {
   "cell_type": "code",
   "execution_count": 1,
   "id": "3f32fae5-1c93-4ff0-ab60-3edac0131a0f",
   "metadata": {},
   "outputs": [
    {
     "name": "stdout",
     "output_type": "stream",
     "text": [
      "Epoch 999: Loss = 0.07566874686812\n",
      "Predictions:  [0.02507217] [0.00268308] [0.96569949] [0.01973216]\n"
     ]
    }
   ],
   "source": [
    "import numpy as np\n",
    "def sigmoid(x):\n",
    "    return 1/(1+np.exp(-x))\n",
    "\n",
    "def sigmoid_derivative(x):\n",
    "    return x*(1-x)\n",
    "\n",
    "def forward(inputs,hidden_wts,hidden_bias,output_wts,output_bias):\n",
    "    hidden_output = sigmoid(np.dot (inputs,hidden_wts)+hidden_bias)\n",
    "    predicted_output = sigmoid(np.dot(hidden_output,output_wts)+output_bias)\n",
    "    return hidden_output,predicted_output\n",
    "\n",
    "def backward(learn,inputs,target,hidden_output,predicted_output,output_wts,output_bias,hidden_wts,hidden_bias):\n",
    "    error = target - predicted_output\n",
    "    delta_output = error*sigmoid_derivative(predicted_output)\n",
    "    \n",
    "    error_hidden = delta_output.dot(output_wts.T)\n",
    "    delta_hidden = error_hidden*sigmoid_derivative(hidden_output)\n",
    "    \n",
    "    #Update weights and biases\n",
    "    output_wts += hidden_output.T.dot(delta_output)*learn\n",
    "    output_bias += np.sum(delta_output,axis=0)*learn\n",
    "    hidden_wts += inputs.T.dot(delta_hidden)*learn\n",
    "    hidden_bias += np.sum(delta_hidden,axis=0)*learn\n",
    "    \n",
    "    return output_wts,output_bias,hidden_wts,hidden_bias\n",
    "inputs = np.array([[0,0],[0,1],[1,0],[1,1]])\n",
    "target = np.array([[0],[0],[1],[0]]) # ANDNOT Gate\n",
    "\n",
    "def train(inputs,target):\n",
    "    input_neurons,hidden_neurons,output_neurons = 2,2,1\n",
    "    hidden_wts = np.random.uniform(size=(input_neurons,hidden_neurons))\n",
    "    hidden_bias = np.random.uniform(size=(1,hidden_neurons))\n",
    "    output_wts = np.random.uniform(size=(hidden_neurons,output_neurons))\n",
    "    output_bias = np.random.uniform(size=(1,output_neurons))\n",
    "    \n",
    "    epochs = 10000\n",
    "    learn = 0.1\n",
    "    \n",
    "    for epoch in range(epochs):\n",
    "        hidden_output,predicted_output = forward(inputs,hidden_wts,hidden_bias,output_wts,output_bias)\n",
    "        output_wts,output_bias,hidden_wts,hidden_bias = backward(learn,inputs,target,hidden_output,predicted_output,output_wts,output_bias,hidden_wts,hidden_bias)\n",
    "        if epoch == 999:\n",
    "            loss = np.mean(np.square(target - predicted_output))\n",
    "            print(f\"Epoch {epoch}: Loss = {loss}\")\n",
    "            \n",
    "    return output_wts,output_bias,hidden_wts,hidden_bias\n",
    "test = np.array([[0,0],[0,1],[1,0],[1,1]])\n",
    "output_wts,output_bias,hidden_wts,hidden_bias = train(inputs,target)\n",
    "hidden,predictions = forward(test,hidden_wts,hidden_bias,output_wts,output_bias)\n",
    "print('Predictions: ',*predictions)"
   ]
  },
  {
   "cell_type": "code",
   "execution_count": 3,
   "id": "d444deb7-dc4f-4614-893e-7e9534b2fb3e",
   "metadata": {},
   "outputs": [
    {
     "data": {
      "text/plain": [
       "array([[-0.02507217],\n",
       "       [-0.00268308],\n",
       "       [ 0.03430051],\n",
       "       [-0.01973216]])"
      ]
     },
     "execution_count": 3,
     "metadata": {},
     "output_type": "execute_result"
    }
   ],
   "source": [
    "difference = target - predictions\n",
    "difference"
   ]
  },
  {
   "cell_type": "code",
   "execution_count": 5,
   "id": "88d1c3e2-302d-49af-86a6-1140cadb1bc5",
   "metadata": {},
   "outputs": [
    {
     "name": "stdout",
     "output_type": "stream",
     "text": [
      "Average Accuracy of predictions:  99.67032743255425\n"
     ]
    }
   ],
   "source": [
    "accuracy = 0\n",
    "for i in range(len(difference)):\n",
    "    accuracy += difference[i][0]\n",
    "\n",
    "accuracy = (1 + accuracy/len(difference))*100\n",
    "print(\"Average Accuracy of predictions: \",accuracy)"
   ]
  },
  {
   "cell_type": "code",
   "execution_count": null,
   "id": "1bc19714-2b89-47f7-80a0-69c42bf1be37",
   "metadata": {},
   "outputs": [],
   "source": []
  }
 ],
 "metadata": {
  "kernelspec": {
   "display_name": "Python 3 (ipykernel)",
   "language": "python",
   "name": "python3"
  },
  "language_info": {
   "codemirror_mode": {
    "name": "ipython",
    "version": 3
   },
   "file_extension": ".py",
   "mimetype": "text/x-python",
   "name": "python",
   "nbconvert_exporter": "python",
   "pygments_lexer": "ipython3",
   "version": "3.12.7"
  }
 },
 "nbformat": 4,
 "nbformat_minor": 5
}
