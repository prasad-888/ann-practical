{
 "cells": [
  {
   "cell_type": "code",
   "execution_count": 1,
   "id": "82c0d200-c2fa-4b4b-a982-7113e4146ed1",
   "metadata": {},
   "outputs": [
    {
     "name": "stdout",
     "output_type": "stream",
     "text": [
      "[0.14669382 0.42351229]\n"
     ]
    }
   ],
   "source": [
    "import numpy as np\n",
    "import matplotlib.pyplot as plt\n",
    "import pandas as pd\n",
    "print(np.random.rand(2))"
   ]
  },
  {
   "cell_type": "code",
   "execution_count": 2,
   "id": "3d751c22-3da6-4a56-9a1f-446c22237d16",
   "metadata": {},
   "outputs": [],
   "source": [
    "inputs = np.array([[1,1],[2,2],[4,4],[5,5],[2,3]])\n",
    "labels = np.array([0,0,1,1,0])"
   ]
  },
  {
   "cell_type": "code",
   "execution_count": 5,
   "id": "e469d8c6-7e54-4810-b9bf-2978160f7c9c",
   "metadata": {},
   "outputs": [
    {
     "name": "stdout",
     "output_type": "stream",
     "text": [
      "[-0.09388872 -0.31863309]\n",
      "0.6000000000000001\n"
     ]
    }
   ],
   "source": [
    "def activation(output):\n",
    "    if output >= 0:\n",
    "        return 1\n",
    "    else:\n",
    "        return 0\n",
    "\n",
    "def predict(test,weights,bias):\n",
    "    predictions = []\n",
    "    wsum = np.dot(test,weights) + bias\n",
    "    predictions.append(activation(wsum))\n",
    "    return predictions\n",
    "def training(inputs,labels):\n",
    "    epochs = 100\n",
    "    learn_rate = 0.1\n",
    "    bias = 1\n",
    "    weights = np.random.rand(2)\n",
    "    wsum = 0\n",
    "    for i in range(epochs):\n",
    "        for j in range(len(inputs)):\n",
    "            wsum = np.dot(inputs[j],weights) + bias\n",
    "\n",
    "        predicted = activation(wsum)\n",
    "        error = labels[j] - predicted\n",
    "\n",
    "        weights = weights + learn_rate * error * inputs[j]\n",
    "\n",
    "        bias = bias + learn_rate * error\n",
    "\n",
    "    return weights,bias\n",
    "nweights,nbias = training(inputs,labels)\n",
    "print(nweights)\n",
    "print(nbias)"
   ]
  },
  {
   "cell_type": "code",
   "execution_count": 7,
   "id": "1a618444-7041-433f-b475-49ac19616e70",
   "metadata": {},
   "outputs": [
    {
     "name": "stdout",
     "output_type": "stream",
     "text": [
      "[0]\n"
     ]
    }
   ],
   "source": [
    "test = [3,4]\n",
    "print(predict(test,nweights,nbias))"
   ]
  },
  {
   "cell_type": "code",
   "execution_count": 9,
   "id": "90765cb5-2e35-4358-8bc8-8775db4ba084",
   "metadata": {},
   "outputs": [
    {
     "data": {
      "image/png": "[encoded data removed]",
      "text/plain": [
       "<Figure size 640x480 with 1 Axes>"
      ]
     },
     "metadata": {},
     "output_type": "display_data"
    }
   ],
   "source": [
    "df = pd.DataFrame(inputs,columns=['X','Y'])\n",
    "df['Labels'] = labels\n",
    "x = df['X']\n",
    "y=(-nweights[0]/nweights[1])*df['X']-(-nbias/-nweights[1])\n",
    "fig, ax = plt.subplots()\n",
    "ax.plot(x, y)\n",
    "ax.set_ylim(0, 10)\n",
    "#plt.plot(df['X'],df['Y'],marker='o')\n",
    "colors = np.where(df['Y'] > y, 'orange','green')\n",
    "plt.scatter(x=3,y=4,color='blue')\n",
    "plt.scatter(x=df['X'],y=df['Y'],c=colors)\n",
    "plt.grid(True)\n",
    "plt.show()"
   ]
  },
  {
   "cell_type": "code",
   "execution_count": null,
   "id": "adc8df37-dcdb-48bc-9041-ae75d7846548",
   "metadata": {},
   "outputs": [],
   "source": []
  }
 ],
 "metadata": {
  "kernelspec": {
   "display_name": "Python 3 (ipykernel)",
   "language": "python",
   "name": "python3"
  },
  "language_info": {
   "codemirror_mode": {
    "name": "ipython",
    "version": 3
   },
   "file_extension": ".py",
   "mimetype": "text/x-python",
   "name": "python",
   "nbconvert_exporter": "python",
   "pygments_lexer": "ipython3",
   "version": "3.12.7"
  }
 },
 "nbformat": 4,
 "nbformat_minor": 5
}
